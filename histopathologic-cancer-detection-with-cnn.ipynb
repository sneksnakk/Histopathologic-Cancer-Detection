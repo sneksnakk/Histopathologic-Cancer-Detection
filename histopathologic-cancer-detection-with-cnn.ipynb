{
 "cells": [
  {
   "cell_type": "code",
   "execution_count": 1,
   "id": "35b76b90",
   "metadata": {
    "_cell_guid": "b1076dfc-b9ad-4769-8c92-a6c4dae69d19",
    "_uuid": "8f2839f25d086af736a60e9eeb907d3b93b6e0e5",
    "execution": {
     "iopub.execute_input": "2023-12-07T09:47:17.537346Z",
     "iopub.status.busy": "2023-12-07T09:47:17.536843Z",
     "iopub.status.idle": "2023-12-07T09:47:17.554409Z",
     "shell.execute_reply": "2023-12-07T09:47:17.553175Z"
    },
    "papermill": {
     "duration": 0.033473,
     "end_time": "2023-12-07T09:47:17.557190",
     "exception": false,
     "start_time": "2023-12-07T09:47:17.523717",
     "status": "completed"
    },
    "tags": []
   },
   "outputs": [
    {
     "data": {
      "text/plain": [
       "['sample_submission.csv', 'train_labels.csv', 'test', 'train']"
      ]
     },
     "execution_count": 1,
     "metadata": {},
     "output_type": "execute_result"
    }
   ],
   "source": [
    "import os\n",
    "# directories\n",
    "os.listdir('../input/histopathologic-cancer-detection/')"
   ]
  },
  {
   "cell_type": "markdown",
   "id": "2b538d6a",
   "metadata": {
    "papermill": {
     "duration": 0.010349,
     "end_time": "2023-12-07T09:47:17.578622",
     "exception": false,
     "start_time": "2023-12-07T09:47:17.568273",
     "status": "completed"
    },
    "tags": []
   },
   "source": [
    "# Histopathologic Cancer Detection with CNN\n",
    "\n",
    "**Overview**\n",
    "\n",
    "In this project, we will be creating an algorithm to categorize and identify metastatic cancer in small image patches from digital pathology scans. First, we will examine and explore the data, then we will run convolutional neural network models to classify cancerous and non-cancerous cells. \n",
    "\n",
    "We will be using Convolutional Neural Networks (CNNs), a category of deep neural networks renowned for their prowess in analyzing visual data. CNNs prove especially fitting for this purpose given their capacity to discern patterns and characteristics within images. This attribute makes them particularly adept at discerning nuanced differences in tissue samples that signify the presence of cancerous cells."
   ]
  },
  {
   "cell_type": "code",
   "execution_count": 2,
   "id": "c5aa2f56",
   "metadata": {
    "execution": {
     "iopub.execute_input": "2023-12-07T09:47:17.601607Z",
     "iopub.status.busy": "2023-12-07T09:47:17.601227Z",
     "iopub.status.idle": "2023-12-07T09:47:35.529003Z",
     "shell.execute_reply": "2023-12-07T09:47:35.527574Z"
    },
    "papermill": {
     "duration": 17.942809,
     "end_time": "2023-12-07T09:47:35.532014",
     "exception": false,
     "start_time": "2023-12-07T09:47:17.589205",
     "status": "completed"
    },
    "tags": []
   },
   "outputs": [],
   "source": [
    "import pandas as pd\n",
    "import numpy as np\n",
    "import seaborn as sns\n",
    "import matplotlib.pyplot as plt\n",
    "%matplotlib inline\n",
    "from sklearn.utils import shuffle\n",
    "import shutil\n",
    "\n",
    "from skimage.transform import rotate\n",
    "from skimage import io\n",
    "import cv2 as cv\n",
    "\n",
    "import tensorflow as tf\n",
    "from tensorflow import keras\n",
    "from tensorflow.keras.preprocessing.image import ImageDataGenerator\n",
    "from tensorflow.keras.layers import RandomFlip, RandomZoom, RandomRotation\n",
    "from tensorflow.keras.layers import Conv2D, MaxPooling2D, AveragePooling2D\n",
    "from tensorflow.keras.layers import Dense, Dropout, Flatten, Activation\n",
    "from tensorflow.keras.models import Sequential\n",
    "from tensorflow.keras.layers import BatchNormalization\n",
    "from tensorflow.keras.optimizers import Adam"
   ]
  },
  {
   "cell_type": "code",
   "execution_count": 3,
   "id": "f76840d6",
   "metadata": {
    "execution": {
     "iopub.execute_input": "2023-12-07T09:47:35.555640Z",
     "iopub.status.busy": "2023-12-07T09:47:35.554777Z",
     "iopub.status.idle": "2023-12-07T09:47:38.916501Z",
     "shell.execute_reply": "2023-12-07T09:47:38.915188Z"
    },
    "papermill": {
     "duration": 3.376055,
     "end_time": "2023-12-07T09:47:38.919086",
     "exception": false,
     "start_time": "2023-12-07T09:47:35.543031",
     "status": "completed"
    },
    "tags": []
   },
   "outputs": [
    {
     "name": "stdout",
     "output_type": "stream",
     "text": [
      "220025\n",
      "57458\n"
     ]
    }
   ],
   "source": [
    "# let's look at the number of images in training and test set \n",
    "print(len(os.listdir('../input/histopathologic-cancer-detection/train')))\n",
    "print(len(os.listdir('../input/histopathologic-cancer-detection/test')))"
   ]
  },
  {
   "cell_type": "markdown",
   "id": "168bfc0b",
   "metadata": {
    "papermill": {
     "duration": 0.010302,
     "end_time": "2023-12-07T09:47:38.940115",
     "exception": false,
     "start_time": "2023-12-07T09:47:38.929813",
     "status": "completed"
    },
    "tags": []
   },
   "source": [
    "We can see that there are 220,025 images in the training dataset and 57,458 images in the test data set. This is a good proportion!"
   ]
  },
  {
   "cell_type": "code",
   "execution_count": 4,
   "id": "dada51d7",
   "metadata": {
    "execution": {
     "iopub.execute_input": "2023-12-07T09:47:38.963869Z",
     "iopub.status.busy": "2023-12-07T09:47:38.962575Z",
     "iopub.status.idle": "2023-12-07T09:47:39.500071Z",
     "shell.execute_reply": "2023-12-07T09:47:39.498583Z"
    },
    "papermill": {
     "duration": 0.552172,
     "end_time": "2023-12-07T09:47:39.502803",
     "exception": false,
     "start_time": "2023-12-07T09:47:38.950631",
     "status": "completed"
    },
    "tags": []
   },
   "outputs": [
    {
     "name": "stdout",
     "output_type": "stream",
     "text": [
      "(220025, 2)\n"
     ]
    }
   ],
   "source": [
    "train_data = pd.read_csv('../input/histopathologic-cancer-detection/train_labels.csv')\n",
    "sample_submission = pd.read_csv('../input/histopathologic-cancer-detection/sample_submission.csv')\n",
    "test_path = '../input/histopathologic-cancer-detection/test/'\n",
    "train_path = '../input/histopathologic-cancer-detection/train/'\n",
    "test_data = pd.DataFrame({'id':os.listdir(test_path)})\n",
    "\n",
    "print(train_data.shape)\n",
    "\n",
    "# declare constants for reproduciblity\n",
    "random_state = 101"
   ]
  },
  {
   "cell_type": "markdown",
   "id": "0dd07076",
   "metadata": {
    "papermill": {
     "duration": 0.010406,
     "end_time": "2023-12-07T09:47:39.524110",
     "exception": false,
     "start_time": "2023-12-07T09:47:39.513704",
     "status": "completed"
    },
    "tags": []
   },
   "source": [
    "## Exploratory Data Analysis"
   ]
  },
  {
   "cell_type": "code",
   "execution_count": 5,
   "id": "82bca162",
   "metadata": {
    "execution": {
     "iopub.execute_input": "2023-12-07T09:47:39.549762Z",
     "iopub.status.busy": "2023-12-07T09:47:39.549307Z",
     "iopub.status.idle": "2023-12-07T09:47:39.584451Z",
     "shell.execute_reply": "2023-12-07T09:47:39.583244Z"
    },
    "papermill": {
     "duration": 0.052074,
     "end_time": "2023-12-07T09:47:39.586991",
     "exception": false,
     "start_time": "2023-12-07T09:47:39.534917",
     "status": "completed"
    },
    "tags": []
   },
   "outputs": [
    {
     "data": {
      "text/html": [
       "<div>\n",
       "<style scoped>\n",
       "    .dataframe tbody tr th:only-of-type {\n",
       "        vertical-align: middle;\n",
       "    }\n",
       "\n",
       "    .dataframe tbody tr th {\n",
       "        vertical-align: top;\n",
       "    }\n",
       "\n",
       "    .dataframe thead th {\n",
       "        text-align: right;\n",
       "    }\n",
       "</style>\n",
       "<table border=\"1\" class=\"dataframe\">\n",
       "  <thead>\n",
       "    <tr style=\"text-align: right;\">\n",
       "      <th></th>\n",
       "      <th>id</th>\n",
       "      <th>label</th>\n",
       "    </tr>\n",
       "  </thead>\n",
       "  <tbody>\n",
       "    <tr>\n",
       "      <th>129850</th>\n",
       "      <td>7703895cf0a1f1e50b6a4cc6b4e2fdedf2b667e3</td>\n",
       "      <td>0</td>\n",
       "    </tr>\n",
       "    <tr>\n",
       "      <th>12151</th>\n",
       "      <td>7b36d7c1944ef250ea4be06705660760e8e1262b</td>\n",
       "      <td>0</td>\n",
       "    </tr>\n",
       "    <tr>\n",
       "      <th>47593</th>\n",
       "      <td>78c2d761bbf372692849dbf87a863b1d9e290fe8</td>\n",
       "      <td>0</td>\n",
       "    </tr>\n",
       "    <tr>\n",
       "      <th>202639</th>\n",
       "      <td>65195ce54f8ed161daa50bf92b3bcf7ae85b00f4</td>\n",
       "      <td>1</td>\n",
       "    </tr>\n",
       "    <tr>\n",
       "      <th>131640</th>\n",
       "      <td>2e2e661170be348a0ba572b924328347ec966493</td>\n",
       "      <td>0</td>\n",
       "    </tr>\n",
       "    <tr>\n",
       "      <th>27920</th>\n",
       "      <td>ef13586519a42bb6e30911164bcdb8b108eed8e9</td>\n",
       "      <td>1</td>\n",
       "    </tr>\n",
       "    <tr>\n",
       "      <th>84326</th>\n",
       "      <td>e90fc12255a758db707a948e0dc1b242863a76b4</td>\n",
       "      <td>1</td>\n",
       "    </tr>\n",
       "    <tr>\n",
       "      <th>88970</th>\n",
       "      <td>c6e3bc84d4c240ab6b53feee041edf2309f965f1</td>\n",
       "      <td>1</td>\n",
       "    </tr>\n",
       "    <tr>\n",
       "      <th>52258</th>\n",
       "      <td>c7bcb194b7f9b45774c5b76ee1ba6a8166055d1b</td>\n",
       "      <td>0</td>\n",
       "    </tr>\n",
       "    <tr>\n",
       "      <th>217367</th>\n",
       "      <td>94ab589aa692235c112a2775ef210d1bc5c387a8</td>\n",
       "      <td>0</td>\n",
       "    </tr>\n",
       "  </tbody>\n",
       "</table>\n",
       "</div>"
      ],
      "text/plain": [
       "                                              id  label\n",
       "129850  7703895cf0a1f1e50b6a4cc6b4e2fdedf2b667e3      0\n",
       "12151   7b36d7c1944ef250ea4be06705660760e8e1262b      0\n",
       "47593   78c2d761bbf372692849dbf87a863b1d9e290fe8      0\n",
       "202639  65195ce54f8ed161daa50bf92b3bcf7ae85b00f4      1\n",
       "131640  2e2e661170be348a0ba572b924328347ec966493      0\n",
       "27920   ef13586519a42bb6e30911164bcdb8b108eed8e9      1\n",
       "84326   e90fc12255a758db707a948e0dc1b242863a76b4      1\n",
       "88970   c6e3bc84d4c240ab6b53feee041edf2309f965f1      1\n",
       "52258   c7bcb194b7f9b45774c5b76ee1ba6a8166055d1b      0\n",
       "217367  94ab589aa692235c112a2775ef210d1bc5c387a8      0"
      ]
     },
     "execution_count": 5,
     "metadata": {},
     "output_type": "execute_result"
    }
   ],
   "source": [
    "train_data.sample(10)"
   ]
  },
  {
   "cell_type": "code",
   "execution_count": 6,
   "id": "2d4f944d",
   "metadata": {
    "execution": {
     "iopub.execute_input": "2023-12-07T09:47:39.611676Z",
     "iopub.status.busy": "2023-12-07T09:47:39.611233Z",
     "iopub.status.idle": "2023-12-07T09:47:39.621398Z",
     "shell.execute_reply": "2023-12-07T09:47:39.620124Z"
    },
    "papermill": {
     "duration": 0.02573,
     "end_time": "2023-12-07T09:47:39.624267",
     "exception": false,
     "start_time": "2023-12-07T09:47:39.598537",
     "status": "completed"
    },
    "tags": []
   },
   "outputs": [
    {
     "name": "stdout",
     "output_type": "stream",
     "text": [
      "Cancerous Cells: 89117\n",
      "Non-Cancerous Cells: 130908\n",
      "0.40503124644926713\n"
     ]
    }
   ],
   "source": [
    "tdlabel = train_data.label\n",
    "cc = (tdlabel == 1).sum()\n",
    "print(\"Cancerous Cells:\", cc)\n",
    "\n",
    "dd = (tdlabel == 0).sum()\n",
    "print(\"Non-Cancerous Cells:\", dd)\n",
    "\n",
    "print(cc/(cc+dd))"
   ]
  },
  {
   "cell_type": "code",
   "execution_count": 7,
   "id": "ace5bdc1",
   "metadata": {
    "execution": {
     "iopub.execute_input": "2023-12-07T09:47:39.649210Z",
     "iopub.status.busy": "2023-12-07T09:47:39.648463Z",
     "iopub.status.idle": "2023-12-07T09:47:39.661481Z",
     "shell.execute_reply": "2023-12-07T09:47:39.660273Z"
    },
    "papermill": {
     "duration": 0.028689,
     "end_time": "2023-12-07T09:47:39.664136",
     "exception": false,
     "start_time": "2023-12-07T09:47:39.635447",
     "status": "completed"
    },
    "tags": []
   },
   "outputs": [
    {
     "data": {
      "text/html": [
       "<div>\n",
       "<style scoped>\n",
       "    .dataframe tbody tr th:only-of-type {\n",
       "        vertical-align: middle;\n",
       "    }\n",
       "\n",
       "    .dataframe tbody tr th {\n",
       "        vertical-align: top;\n",
       "    }\n",
       "\n",
       "    .dataframe thead th {\n",
       "        text-align: right;\n",
       "    }\n",
       "</style>\n",
       "<table border=\"1\" class=\"dataframe\">\n",
       "  <thead>\n",
       "    <tr style=\"text-align: right;\">\n",
       "      <th></th>\n",
       "      <th>id</th>\n",
       "    </tr>\n",
       "  </thead>\n",
       "  <tbody>\n",
       "    <tr>\n",
       "      <th>40707</th>\n",
       "      <td>c4527b297dc8305ddbd97a634e1a63fad73cb594.tif</td>\n",
       "    </tr>\n",
       "    <tr>\n",
       "      <th>32686</th>\n",
       "      <td>a029de26d65ee9609b14667e478e96f756319663.tif</td>\n",
       "    </tr>\n",
       "    <tr>\n",
       "      <th>38083</th>\n",
       "      <td>30ceacbd37b4912ce4cf359bb2166fe2ea92bd42.tif</td>\n",
       "    </tr>\n",
       "    <tr>\n",
       "      <th>26538</th>\n",
       "      <td>28d25ad65bad4865069e22afe4111286a11ead5d.tif</td>\n",
       "    </tr>\n",
       "    <tr>\n",
       "      <th>43383</th>\n",
       "      <td>5faf8e66dbce75bbf85d4bbc6108952bb8c8556a.tif</td>\n",
       "    </tr>\n",
       "    <tr>\n",
       "      <th>56512</th>\n",
       "      <td>dce81d977d996e94e6d292ee47c10c5cc1a4bbda.tif</td>\n",
       "    </tr>\n",
       "    <tr>\n",
       "      <th>23440</th>\n",
       "      <td>3dff2e7609330e0a48d6e4e0f310558b1f99cff0.tif</td>\n",
       "    </tr>\n",
       "    <tr>\n",
       "      <th>12655</th>\n",
       "      <td>b88402dc62dce942a1359497a571170f5aea6a77.tif</td>\n",
       "    </tr>\n",
       "    <tr>\n",
       "      <th>50383</th>\n",
       "      <td>9cddf0876a30db73afb8279273e0e122ec8faa8b.tif</td>\n",
       "    </tr>\n",
       "    <tr>\n",
       "      <th>30808</th>\n",
       "      <td>b7a028c6c730ac5dc9aa1a60c8eae1d0562275c4.tif</td>\n",
       "    </tr>\n",
       "  </tbody>\n",
       "</table>\n",
       "</div>"
      ],
      "text/plain": [
       "                                                 id\n",
       "40707  c4527b297dc8305ddbd97a634e1a63fad73cb594.tif\n",
       "32686  a029de26d65ee9609b14667e478e96f756319663.tif\n",
       "38083  30ceacbd37b4912ce4cf359bb2166fe2ea92bd42.tif\n",
       "26538  28d25ad65bad4865069e22afe4111286a11ead5d.tif\n",
       "43383  5faf8e66dbce75bbf85d4bbc6108952bb8c8556a.tif\n",
       "56512  dce81d977d996e94e6d292ee47c10c5cc1a4bbda.tif\n",
       "23440  3dff2e7609330e0a48d6e4e0f310558b1f99cff0.tif\n",
       "12655  b88402dc62dce942a1359497a571170f5aea6a77.tif\n",
       "50383  9cddf0876a30db73afb8279273e0e122ec8faa8b.tif\n",
       "30808  b7a028c6c730ac5dc9aa1a60c8eae1d0562275c4.tif"
      ]
     },
     "execution_count": 7,
     "metadata": {},
     "output_type": "execute_result"
    }
   ],
   "source": [
    "test_data.sample(10)"
   ]
  },
  {
   "cell_type": "markdown",
   "id": "b67ba5ea",
   "metadata": {
    "papermill": {
     "duration": 0.012112,
     "end_time": "2023-12-07T09:47:39.687730",
     "exception": false,
     "start_time": "2023-12-07T09:47:39.675618",
     "status": "completed"
    },
    "tags": []
   },
   "source": [
    "We can see from the EDA that there is a 40/60 split between cancerous(1) and non-cancerous(0) cells, which is a fairly balanced dataset for predictions.\n",
    "\n",
    "Now, we will visualize the data."
   ]
  },
  {
   "cell_type": "code",
   "execution_count": 8,
   "id": "dbdab00c",
   "metadata": {
    "execution": {
     "iopub.execute_input": "2023-12-07T09:47:39.713308Z",
     "iopub.status.busy": "2023-12-07T09:47:39.712171Z",
     "iopub.status.idle": "2023-12-07T09:47:40.065142Z",
     "shell.execute_reply": "2023-12-07T09:47:40.063898Z"
    },
    "papermill": {
     "duration": 0.368595,
     "end_time": "2023-12-07T09:47:40.067980",
     "exception": false,
     "start_time": "2023-12-07T09:47:39.699385",
     "status": "completed"
    },
    "tags": []
   },
   "outputs": [
    {
     "data": {
      "image/png": "[encoded data removed]",
      "text/plain": [
       "<Figure size 640x480 with 1 Axes>"
      ]
     },
     "metadata": {},
     "output_type": "display_data"
    }
   ],
   "source": [
    "sns.countplot(x=train_data['label'], palette='colorblind').set(title='Cancer Label Counts');"
   ]
  },
  {
   "cell_type": "code",
   "execution_count": null,
   "id": "29e0dc7f",
   "metadata": {
    "papermill": {
     "duration": 0.011579,
     "end_time": "2023-12-07T09:47:40.091359",
     "exception": false,
     "start_time": "2023-12-07T09:47:40.079780",
     "status": "completed"
    },
    "tags": []
   },
   "outputs": [],
   "source": []
  },
  {
   "cell_type": "markdown",
   "id": "375c2d52",
   "metadata": {
    "papermill": {
     "duration": 0.012365,
     "end_time": "2023-12-07T09:47:40.115383",
     "exception": false,
     "start_time": "2023-12-07T09:47:40.103018",
     "status": "completed"
    },
    "tags": []
   },
   "source": [
    "# Model Architecture\n",
    "\n",
    "We will be using the Keras library to run a convolutional neural network (CNN). We will be running two models: one with hyperparameters and one without.\n",
    "\n",
    "Our CNN model will have a network with two convolutional layers then a MaxPool layer, repeated n number of times. Our model will have two (n=2) of these clusters.\n",
    "\n",
    "First model:\n",
    "\n",
    "Normalized images pre-training (image/255)\n",
    "Output layer activation (sigmoid)\n",
    "\n",
    "Second model:\n",
    "\n",
    "Normalized images pre-training (image/255)\n",
    "Output layer activation (sigmoid)\n",
    "Dropout (0.1)\n",
    "Batch Normalization\n",
    "Optimization (Adam)\n",
    "Learning rate (0.0001)\n",
    "Hidden layer activations (ReLU)\n",
    "\n",
    "\n",
    "Normalize images : this will divide each pixel by 255 to normalize the data\n",
    "Output layer activation : will be a sigmoid activation function on the output layer\n",
    "Dropout : set dropout at 0.1 randomly select weights and set them to equal 0 to regularize the model\n",
    "Optimization : use adaptive moment estimation (Adam) for optimizing the model\n",
    "Learning rate: set learning rate to 0.0001 to assist in the gradient descent such that as the model learns, the speed of learning decreases so that it is less likely to overstep the global minimum\n",
    "Hidden layer activations: use rectified linear regression (ReLU) as our hidden layer activation function"
   ]
  },
  {
   "cell_type": "code",
   "execution_count": 9,
   "id": "2c6d261d",
   "metadata": {
    "execution": {
     "iopub.execute_input": "2023-12-07T09:47:40.142492Z",
     "iopub.status.busy": "2023-12-07T09:47:40.142018Z",
     "iopub.status.idle": "2023-12-07T09:47:40.147691Z",
     "shell.execute_reply": "2023-12-07T09:47:40.146369Z"
    },
    "papermill": {
     "duration": 0.021645,
     "end_time": "2023-12-07T09:47:40.150237",
     "exception": false,
     "start_time": "2023-12-07T09:47:40.128592",
     "status": "completed"
    },
    "tags": []
   },
   "outputs": [],
   "source": [
    "# set model constants\n",
    "batchsize = 256"
   ]
  },
  {
   "cell_type": "code",
   "execution_count": 10,
   "id": "20ad1ff5",
   "metadata": {
    "execution": {
     "iopub.execute_input": "2023-12-07T09:47:40.176858Z",
     "iopub.status.busy": "2023-12-07T09:47:40.175696Z",
     "iopub.status.idle": "2023-12-07T09:47:40.485204Z",
     "shell.execute_reply": "2023-12-07T09:47:40.484070Z"
    },
    "papermill": {
     "duration": 0.326087,
     "end_time": "2023-12-07T09:47:40.488314",
     "exception": false,
     "start_time": "2023-12-07T09:47:40.162227",
     "status": "completed"
    },
    "tags": []
   },
   "outputs": [],
   "source": [
    "# prepare data for training\n",
    "def append_tif(string):\n",
    "    return string+\".tif\"\n",
    "\n",
    "train_data[\"id\"] = train_data[\"id\"].apply(append_tif)\n",
    "train_data['label'] = train_data['label'].astype(str)\n",
    "\n",
    "train_data = shuffle(train_data, random_state=random_state)"
   ]
  },
  {
   "cell_type": "code",
   "execution_count": 11,
   "id": "d5dd5f0e",
   "metadata": {
    "execution": {
     "iopub.execute_input": "2023-12-07T09:47:40.514869Z",
     "iopub.status.busy": "2023-12-07T09:47:40.513481Z",
     "iopub.status.idle": "2023-12-07T09:47:40.519082Z",
     "shell.execute_reply": "2023-12-07T09:47:40.518085Z"
    },
    "papermill": {
     "duration": 0.021229,
     "end_time": "2023-12-07T09:47:40.521402",
     "exception": false,
     "start_time": "2023-12-07T09:47:40.500173",
     "status": "completed"
    },
    "tags": []
   },
   "outputs": [],
   "source": [
    "# split data into training and validation sets\n",
    "datagen = ImageDataGenerator(rescale=1./255.,\n",
    "                            validation_split=0.15)"
   ]
  },
  {
   "cell_type": "code",
   "execution_count": 12,
   "id": "c31c139d",
   "metadata": {
    "execution": {
     "iopub.execute_input": "2023-12-07T09:47:40.549430Z",
     "iopub.status.busy": "2023-12-07T09:47:40.548622Z",
     "iopub.status.idle": "2023-12-07T09:58:56.017634Z",
     "shell.execute_reply": "2023-12-07T09:58:56.016261Z"
    },
    "papermill": {
     "duration": 675.486544,
     "end_time": "2023-12-07T09:58:56.020754",
     "exception": false,
     "start_time": "2023-12-07T09:47:40.534210",
     "status": "completed"
    },
    "tags": []
   },
   "outputs": [
    {
     "name": "stdout",
     "output_type": "stream",
     "text": [
      "Found 187022 validated image filenames belonging to 2 classes.\n",
      "Found 33003 validated image filenames belonging to 2 classes.\n"
     ]
    }
   ],
   "source": [
    "# generate training data\n",
    "train_generator = datagen.flow_from_dataframe(\n",
    "    dataframe=train_data,\n",
    "    directory=train_path,\n",
    "    x_col=\"id\",\n",
    "    y_col=\"label\",\n",
    "    subset=\"training\",\n",
    "    batch_size=batchsize,\n",
    "    seed=random_state,\n",
    "    class_mode=\"binary\",\n",
    "    target_size=(64,64)) \n",
    "\n",
    "# generate validation data\n",
    "valid_generator = datagen.flow_from_dataframe(\n",
    "    dataframe=train_data,\n",
    "    directory=train_path,\n",
    "    x_col=\"id\",\n",
    "    y_col=\"label\",\n",
    "    subset=\"validation\",\n",
    "    batch_size=batchsize,\n",
    "    seed=random_state,\n",
    "    class_mode=\"binary\",\n",
    "    target_size=(64,64))  "
   ]
  },
  {
   "cell_type": "code",
   "execution_count": 13,
   "id": "0b3c6f26",
   "metadata": {
    "execution": {
     "iopub.execute_input": "2023-12-07T09:58:56.049249Z",
     "iopub.status.busy": "2023-12-07T09:58:56.048416Z",
     "iopub.status.idle": "2023-12-07T09:58:56.061953Z",
     "shell.execute_reply": "2023-12-07T09:58:56.060987Z"
    },
    "papermill": {
     "duration": 0.030129,
     "end_time": "2023-12-07T09:58:56.064429",
     "exception": false,
     "start_time": "2023-12-07T09:58:56.034300",
     "status": "completed"
    },
    "tags": []
   },
   "outputs": [],
   "source": [
    "tpu = None\n",
    "try:\n",
    "    tpu = tf.distribute.cluster_resolver.TPUClusterResolver()\n",
    "    tf.config.experimental_connect_to_cluster(tpu)\n",
    "    tf.tpu.experimental.initialize_tpu_system(tpu)\n",
    "    strategy = tf.distribute.TPUStrategy(tpu)\n",
    "except ValueError:\n",
    "    strategy = tf.distribute.get_strategy()"
   ]
  },
  {
   "cell_type": "markdown",
   "id": "cafff74f",
   "metadata": {
    "papermill": {
     "duration": 0.011554,
     "end_time": "2023-12-07T09:58:56.088079",
     "exception": false,
     "start_time": "2023-12-07T09:58:56.076525",
     "status": "completed"
    },
    "tags": []
   },
   "source": [
    "### Model 1"
   ]
  },
  {
   "cell_type": "code",
   "execution_count": 14,
   "id": "81d479a1",
   "metadata": {
    "execution": {
     "iopub.execute_input": "2023-12-07T09:58:56.116886Z",
     "iopub.status.busy": "2023-12-07T09:58:56.115559Z",
     "iopub.status.idle": "2023-12-07T09:58:56.443629Z",
     "shell.execute_reply": "2023-12-07T09:58:56.442253Z"
    },
    "papermill": {
     "duration": 0.354452,
     "end_time": "2023-12-07T09:58:56.456260",
     "exception": false,
     "start_time": "2023-12-07T09:58:56.101808",
     "status": "completed"
    },
    "tags": []
   },
   "outputs": [
    {
     "name": "stdout",
     "output_type": "stream",
     "text": [
      "Model: \"sequential\"\n",
      "_________________________________________________________________\n",
      " Layer (type)                Output Shape              Param #   \n",
      "=================================================================\n",
      " conv2d (Conv2D)             (256, 62, 62, 16)         448       \n",
      "                                                                 \n",
      " conv2d_1 (Conv2D)           (256, 60, 60, 16)         2320      \n",
      "                                                                 \n",
      " max_pooling2d (MaxPooling2  (256, 30, 30, 16)         0         \n",
      " D)                                                              \n",
      "                                                                 \n",
      " conv2d_2 (Conv2D)           (256, 28, 28, 32)         4640      \n",
      "                                                                 \n",
      " conv2d_3 (Conv2D)           (256, 26, 26, 32)         9248      \n",
      "                                                                 \n",
      " average_pooling2d (Average  (256, 13, 13, 32)         0         \n",
      " Pooling2D)                                                      \n",
      "                                                                 \n",
      " flatten (Flatten)           (256, 5408)               0         \n",
      "                                                                 \n",
      " dense (Dense)               (256, 1)                  5409      \n",
      "                                                                 \n",
      "=================================================================\n",
      "Total params: 22065 (86.19 KB)\n",
      "Trainable params: 22065 (86.19 KB)\n",
      "Non-trainable params: 0 (0.00 Byte)\n",
      "_________________________________________________________________\n"
     ]
    }
   ],
   "source": [
    "# set ROC AUC as metric\n",
    "ROC_1 = tf.keras.metrics.AUC()\n",
    "\n",
    "# use GPU\n",
    "with strategy.scope():\n",
    "    \n",
    "    #model design\n",
    "    model_one = Sequential()\n",
    "    \n",
    "    model_one.add(Conv2D(filters=16, kernel_size=(3,3)))\n",
    "    model_one.add(Conv2D(filters=16, kernel_size=(3,3)))\n",
    "    model_one.add(MaxPooling2D(pool_size=(2,2)))\n",
    "\n",
    "    model_one.add(Conv2D(filters=32, kernel_size=(3,3)))\n",
    "    model_one.add(Conv2D(filters=32, kernel_size=(3,3)))\n",
    "    model_one.add(AveragePooling2D(pool_size=(2,2)))\n",
    "\n",
    "    model_one.add(Flatten())\n",
    "    model_one.add(Dense(1, activation='sigmoid'))\n",
    "    \n",
    "    #model input size\n",
    "    model_one.build(input_shape=(batchsize, 64, 64, 3))        # original image = (96, 96, 3) \n",
    "    \n",
    "    #compiling\n",
    "    model_one.compile(loss='binary_crossentropy', metrics=['accuracy', ROC_1])\n",
    "    \n",
    "model_one.summary()"
   ]
  },
  {
   "cell_type": "code",
   "execution_count": 15,
   "id": "44a0a185",
   "metadata": {
    "execution": {
     "iopub.execute_input": "2023-12-07T09:58:56.556701Z",
     "iopub.status.busy": "2023-12-07T09:58:56.556241Z",
     "iopub.status.idle": "2023-12-07T12:43:17.459477Z",
     "shell.execute_reply": "2023-12-07T12:43:17.455285Z"
    },
    "papermill": {
     "duration": 9860.928055,
     "end_time": "2023-12-07T12:43:17.467089",
     "exception": false,
     "start_time": "2023-12-07T09:58:56.539034",
     "status": "completed"
    },
    "tags": []
   },
   "outputs": [
    {
     "name": "stderr",
     "output_type": "stream",
     "text": [
      "/tmp/ipykernel_19/2693451645.py:2: UserWarning: `Model.fit_generator` is deprecated and will be removed in a future version. Please use `Model.fit`, which supports generators.\n",
      "  history_model_one = model_one.fit_generator(\n"
     ]
    },
    {
     "name": "stdout",
     "output_type": "stream",
     "text": [
      "Epoch 1/10\n",
      "731/731 [==============================] - 1550s 2s/step - loss: 0.5936 - accuracy: 0.6955 - auc: 0.7410 - val_loss: 0.5325 - val_accuracy: 0.7502 - val_auc: 0.8074\n",
      "Epoch 2/10\n",
      "731/731 [==============================] - 1017s 1s/step - loss: 0.5418 - accuracy: 0.7395 - auc: 0.7943 - val_loss: 0.5246 - val_accuracy: 0.7595 - val_auc: 0.8193\n",
      "Epoch 3/10\n",
      "731/731 [==============================] - 1089s 1s/step - loss: 0.5119 - accuracy: 0.7605 - auc: 0.8210 - val_loss: 0.4790 - val_accuracy: 0.7810 - val_auc: 0.8473\n",
      "Epoch 4/10\n",
      "731/731 [==============================] - 959s 1s/step - loss: 0.4919 - accuracy: 0.7732 - auc: 0.8369 - val_loss: 0.4793 - val_accuracy: 0.7827 - val_auc: 0.8496\n",
      "Epoch 5/10\n",
      "731/731 [==============================] - 864s 1s/step - loss: 0.4790 - accuracy: 0.7805 - auc: 0.8461 - val_loss: 0.4840 - val_accuracy: 0.7854 - val_auc: 0.8594\n",
      "Epoch 6/10\n",
      "731/731 [==============================] - 817s 1s/step - loss: 0.4708 - accuracy: 0.7837 - auc: 0.8515 - val_loss: 0.4551 - val_accuracy: 0.7935 - val_auc: 0.8646\n",
      "Epoch 7/10\n",
      "731/731 [==============================] - 830s 1s/step - loss: 0.4634 - accuracy: 0.7894 - auc: 0.8567 - val_loss: 0.4804 - val_accuracy: 0.7777 - val_auc: 0.8645\n",
      "Epoch 8/10\n",
      "731/731 [==============================] - 812s 1s/step - loss: 0.4588 - accuracy: 0.7914 - auc: 0.8598 - val_loss: 0.4718 - val_accuracy: 0.7847 - val_auc: 0.8550\n",
      "Epoch 9/10\n",
      "731/731 [==============================] - 807s 1s/step - loss: 0.4539 - accuracy: 0.7960 - auc: 0.8628 - val_loss: 0.4487 - val_accuracy: 0.7977 - val_auc: 0.8670\n",
      "Epoch 10/10\n",
      "731/731 [==============================] - 809s 1s/step - loss: 0.4499 - accuracy: 0.7969 - auc: 0.8653 - val_loss: 0.4743 - val_accuracy: 0.7825 - val_auc: 0.8576\n"
     ]
    }
   ],
   "source": [
    "# training the model\n",
    "history_model_one = model_one.fit_generator(\n",
    "                        train_generator,\n",
    "                        epochs = 10,\n",
    "                        validation_data = valid_generator)"
   ]
  },
  {
   "cell_type": "code",
   "execution_count": 16,
   "id": "0c5a36cb",
   "metadata": {
    "execution": {
     "iopub.execute_input": "2023-12-07T12:43:19.058045Z",
     "iopub.status.busy": "2023-12-07T12:43:19.057410Z",
     "iopub.status.idle": "2023-12-07T12:43:20.836575Z",
     "shell.execute_reply": "2023-12-07T12:43:20.835353Z"
    },
    "papermill": {
     "duration": 2.521732,
     "end_time": "2023-12-07T12:43:20.839671",
     "exception": false,
     "start_time": "2023-12-07T12:43:18.317939",
     "status": "completed"
    },
    "tags": []
   },
   "outputs": [
    {
     "data": {
      "image/png": "[encoded data removed]",
      "text/plain": [
       "<Figure size 640x480 with 1 Axes>"
      ]
     },
     "metadata": {},
     "output_type": "display_data"
    },
    {
     "data": {
      "image/png": "[encoded data removed]",
      "text/plain": [
       "<Figure size 640x480 with 1 Axes>"
      ]
     },
     "metadata": {},
     "output_type": "display_data"
    }
   ],
   "source": [
    "# plot model accuracy per epoch \n",
    "plt.plot(history_model_one.history['accuracy'])\n",
    "plt.plot(history_model_one.history['val_accuracy'])\n",
    "plt.title('Model One Accuracy per Epoch')\n",
    "plt.ylabel('accuracy')\n",
    "plt.xlabel('epoch')\n",
    "plt.legend(['train', 'validate'], loc='upper left')\n",
    "plt.show();\n",
    "\n",
    "# plot model loss per epoch\n",
    "plt.plot(history_model_one.history['loss'])\n",
    "plt.plot(history_model_one.history['val_loss'])\n",
    "plt.title('Model One Loss per Epoch')\n",
    "plt.ylabel('loss')\n",
    "plt.xlabel('epoch')\n",
    "plt.legend(['train', 'validate'], loc='upper left')\n",
    "plt.show();"
   ]
  },
  {
   "cell_type": "markdown",
   "id": "669ccc96",
   "metadata": {
    "papermill": {
     "duration": 0.746647,
     "end_time": "2023-12-07T12:43:22.340414",
     "exception": false,
     "start_time": "2023-12-07T12:43:21.593767",
     "status": "completed"
    },
    "tags": []
   },
   "source": [
    "### Model 2"
   ]
  },
  {
   "cell_type": "code",
   "execution_count": 17,
   "id": "ee8ee645",
   "metadata": {
    "execution": {
     "iopub.execute_input": "2023-12-07T12:43:23.966019Z",
     "iopub.status.busy": "2023-12-07T12:43:23.964651Z",
     "iopub.status.idle": "2023-12-07T12:43:24.488809Z",
     "shell.execute_reply": "2023-12-07T12:43:24.486579Z"
    },
    "papermill": {
     "duration": 1.384228,
     "end_time": "2023-12-07T12:43:24.496003",
     "exception": false,
     "start_time": "2023-12-07T12:43:23.111775",
     "status": "completed"
    },
    "tags": []
   },
   "outputs": [
    {
     "name": "stdout",
     "output_type": "stream",
     "text": [
      "Model: \"sequential_1\"\n",
      "_________________________________________________________________\n",
      " Layer (type)                Output Shape              Param #   \n",
      "=================================================================\n",
      " conv2d_4 (Conv2D)           (256, 62, 62, 16)         448       \n",
      "                                                                 \n",
      " conv2d_5 (Conv2D)           (256, 60, 60, 16)         2320      \n",
      "                                                                 \n",
      " max_pooling2d_1 (MaxPoolin  (256, 30, 30, 16)         0         \n",
      " g2D)                                                            \n",
      "                                                                 \n",
      " dropout (Dropout)           (256, 30, 30, 16)         0         \n",
      "                                                                 \n",
      " batch_normalization (Batch  (256, 30, 30, 16)         64        \n",
      " Normalization)                                                  \n",
      "                                                                 \n",
      " conv2d_6 (Conv2D)           (256, 28, 28, 32)         4640      \n",
      "                                                                 \n",
      " conv2d_7 (Conv2D)           (256, 26, 26, 32)         9248      \n",
      "                                                                 \n",
      " average_pooling2d_1 (Avera  (256, 13, 13, 32)         0         \n",
      " gePooling2D)                                                    \n",
      "                                                                 \n",
      " dropout_1 (Dropout)         (256, 13, 13, 32)         0         \n",
      "                                                                 \n",
      " batch_normalization_1 (Bat  (256, 13, 13, 32)         128       \n",
      " chNormalization)                                                \n",
      "                                                                 \n",
      " conv2d_8 (Conv2D)           (256, 11, 11, 32)         9248      \n",
      "                                                                 \n",
      " flatten_1 (Flatten)         (256, 3872)               0         \n",
      "                                                                 \n",
      " dense_1 (Dense)             (256, 1)                  3873      \n",
      "                                                                 \n",
      "=================================================================\n",
      "Total params: 29969 (117.07 KB)\n",
      "Trainable params: 29873 (116.69 KB)\n",
      "Non-trainable params: 96 (384.00 Byte)\n",
      "_________________________________________________________________\n"
     ]
    }
   ],
   "source": [
    "ROC_2 = tf.keras.metrics.AUC()\n",
    "\n",
    "with strategy.scope():\n",
    "    \n",
    "    #create model\n",
    "    model_two = Sequential()\n",
    "    \n",
    "    model_two.add(Conv2D(filters=16, kernel_size=(3,3), activation='relu', ))\n",
    "    model_two.add(Conv2D(filters=16, kernel_size=(3,3), activation='relu'))\n",
    "    model_two.add(MaxPooling2D(pool_size=(2,2)))\n",
    "    model_two.add(Dropout(0.1))\n",
    "    \n",
    "    model_two.add(BatchNormalization())\n",
    "    model_two.add(Conv2D(filters=32, kernel_size=(3,3), activation='relu'))\n",
    "    model_two.add(Conv2D(filters=32, kernel_size=(3,3), activation='relu'))\n",
    "    model_two.add(AveragePooling2D(pool_size=(2,2)))\n",
    "    model_two.add(Dropout(0.1))\n",
    "    \n",
    "    model_two.add(BatchNormalization())\n",
    "    model_two.add(Conv2D(filters=32, kernel_size=(3,3), activation='relu'))\n",
    "    model_two.add(Flatten())\n",
    "    model_two.add(Dense(1, activation='sigmoid'))\n",
    "    \n",
    "    #build model by input size\n",
    "    model_two.build(input_shape=(batchsize, 64, 64, 3))       # original image = (96, 96, 3) \n",
    "    \n",
    "    #compile\n",
    "    adam_optimizer = Adam(learning_rate=0.0001)\n",
    "    model_two.compile(loss='binary_crossentropy', metrics=['accuracy', ROC_2], optimizer=adam_optimizer)\n",
    "\n",
    "#quick look at model\n",
    "model_two.summary()"
   ]
  },
  {
   "cell_type": "code",
   "execution_count": 18,
   "id": "0d0b4733",
   "metadata": {
    "execution": {
     "iopub.execute_input": "2023-12-07T12:43:25.998259Z",
     "iopub.status.busy": "2023-12-07T12:43:25.997347Z",
     "iopub.status.idle": "2023-12-07T15:25:49.767964Z",
     "shell.execute_reply": "2023-12-07T15:25:49.763585Z"
    },
    "papermill": {
     "duration": 9745.947859,
     "end_time": "2023-12-07T15:25:51.196499",
     "exception": false,
     "start_time": "2023-12-07T12:43:25.248640",
     "status": "completed"
    },
    "tags": []
   },
   "outputs": [
    {
     "name": "stderr",
     "output_type": "stream",
     "text": [
      "/tmp/ipykernel_19/1691481122.py:2: UserWarning: `Model.fit_generator` is deprecated and will be removed in a future version. Please use `Model.fit`, which supports generators.\n",
      "  history_model_two = model_two.fit_generator(\n"
     ]
    },
    {
     "name": "stdout",
     "output_type": "stream",
     "text": [
      "Epoch 1/10\n",
      "731/731 [==============================] - 969s 1s/step - loss: 0.4732 - accuracy: 0.7793 - auc_1: 0.8485 - val_loss: 0.6668 - val_accuracy: 0.7145 - val_auc_1: 0.8781\n",
      "Epoch 2/10\n",
      "731/731 [==============================] - 972s 1s/step - loss: 0.4118 - accuracy: 0.8182 - auc_1: 0.8873 - val_loss: 0.5803 - val_accuracy: 0.7709 - val_auc_1: 0.8849\n",
      "Epoch 3/10\n",
      "731/731 [==============================] - 926s 1s/step - loss: 0.3881 - accuracy: 0.8321 - auc_1: 0.9006 - val_loss: 0.5825 - val_accuracy: 0.7860 - val_auc_1: 0.8798\n",
      "Epoch 4/10\n",
      "731/731 [==============================] - 970s 1s/step - loss: 0.3659 - accuracy: 0.8426 - auc_1: 0.9131 - val_loss: 0.5800 - val_accuracy: 0.7747 - val_auc_1: 0.9094\n",
      "Epoch 5/10\n",
      "731/731 [==============================] - 937s 1s/step - loss: 0.3416 - accuracy: 0.8553 - auc_1: 0.9250 - val_loss: 0.3516 - val_accuracy: 0.8549 - val_auc_1: 0.9315\n",
      "Epoch 6/10\n",
      "731/731 [==============================] - 972s 1s/step - loss: 0.3194 - accuracy: 0.8655 - auc_1: 0.9345 - val_loss: 0.4108 - val_accuracy: 0.8325 - val_auc_1: 0.9309\n",
      "Epoch 7/10\n",
      "731/731 [==============================] - 968s 1s/step - loss: 0.3050 - accuracy: 0.8720 - auc_1: 0.9404 - val_loss: 0.3613 - val_accuracy: 0.8509 - val_auc_1: 0.9247\n",
      "Epoch 8/10\n",
      "731/731 [==============================] - 971s 1s/step - loss: 0.2937 - accuracy: 0.8774 - auc_1: 0.9447 - val_loss: 0.2884 - val_accuracy: 0.8807 - val_auc_1: 0.9483\n",
      "Epoch 9/10\n",
      "731/731 [==============================] - 970s 1s/step - loss: 0.2850 - accuracy: 0.8811 - auc_1: 0.9479 - val_loss: 0.3534 - val_accuracy: 0.8573 - val_auc_1: 0.9489\n",
      "Epoch 10/10\n",
      "731/731 [==============================] - 975s 1s/step - loss: 0.2777 - accuracy: 0.8850 - auc_1: 0.9505 - val_loss: 0.3193 - val_accuracy: 0.8704 - val_auc_1: 0.9451\n"
     ]
    }
   ],
   "source": [
    "# training model 2\n",
    "history_model_two = model_two.fit_generator(\n",
    "                        train_generator,\n",
    "                        epochs = 10,\n",
    "                        validation_data = valid_generator)"
   ]
  },
  {
   "cell_type": "code",
   "execution_count": 19,
   "id": "387169ba",
   "metadata": {
    "execution": {
     "iopub.execute_input": "2023-12-07T15:25:54.268153Z",
     "iopub.status.busy": "2023-12-07T15:25:54.267482Z",
     "iopub.status.idle": "2023-12-07T15:25:54.983956Z",
     "shell.execute_reply": "2023-12-07T15:25:54.983049Z"
    },
    "papermill": {
     "duration": 2.181765,
     "end_time": "2023-12-07T15:25:54.986889",
     "exception": false,
     "start_time": "2023-12-07T15:25:52.805124",
     "status": "completed"
    },
    "tags": []
   },
   "outputs": [
    {
     "data": {
      "image/png": "[encoded data removed]",
      "text/plain": [
       "<Figure size 640x480 with 1 Axes>"
      ]
     },
     "metadata": {},
     "output_type": "display_data"
    },
    {
     "data": {
      "image/png": "[encoded data removed]",
      "text/plain": [
       "<Figure size 640x480 with 1 Axes>"
      ]
     },
     "metadata": {},
     "output_type": "display_data"
    }
   ],
   "source": [
    "plt.plot(history_model_two.history['accuracy'])\n",
    "plt.plot(history_model_two.history['val_accuracy'])\n",
    "plt.title('Model Two Accuracy')\n",
    "plt.ylabel('accuracy')\n",
    "plt.xlabel('epoch')\n",
    "plt.legend(['train', 'validate'], loc='upper left')\n",
    "plt.show();\n",
    "\n",
    "plt.plot(history_model_two.history['loss'])\n",
    "plt.plot(history_model_two.history['val_loss'])\n",
    "plt.title('Model Two Loss')\n",
    "plt.ylabel('loss')\n",
    "plt.xlabel('epoch')\n",
    "plt.legend(['train', 'validate'], loc='upper left')\n",
    "plt.show();\n"
   ]
  },
  {
   "cell_type": "code",
   "execution_count": 20,
   "id": "0a1e6908",
   "metadata": {
    "execution": {
     "iopub.execute_input": "2023-12-07T15:25:58.038277Z",
     "iopub.status.busy": "2023-12-07T15:25:58.037316Z",
     "iopub.status.idle": "2023-12-07T15:27:54.864134Z",
     "shell.execute_reply": "2023-12-07T15:27:54.862624Z"
    },
    "papermill": {
     "duration": 119.745437,
     "end_time": "2023-12-07T15:27:56.184167",
     "exception": false,
     "start_time": "2023-12-07T15:25:56.438730",
     "status": "completed"
    },
    "tags": []
   },
   "outputs": [
    {
     "name": "stdout",
     "output_type": "stream",
     "text": [
      "Found 57458 validated image filenames.\n"
     ]
    }
   ],
   "source": [
    "# preparing test data\n",
    "datagen_test = ImageDataGenerator(rescale=1./255.)\n",
    "\n",
    "test_generator = datagen_test.flow_from_dataframe(\n",
    "    dataframe=test_data,\n",
    "    directory=test_path,\n",
    "    x_col='id', \n",
    "    y_col=None,\n",
    "    target_size=(64,64),         \n",
    "    batch_size=1,\n",
    "    shuffle=False,\n",
    "    class_mode=None)"
   ]
  },
  {
   "cell_type": "code",
   "execution_count": 21,
   "id": "90eca10b",
   "metadata": {
    "execution": {
     "iopub.execute_input": "2023-12-07T15:27:59.215601Z",
     "iopub.status.busy": "2023-12-07T15:27:59.214740Z",
     "iopub.status.idle": "2023-12-07T15:36:21.561139Z",
     "shell.execute_reply": "2023-12-07T15:36:21.559739Z"
    },
    "papermill": {
     "duration": 503.940053,
     "end_time": "2023-12-07T15:36:21.567114",
     "exception": false,
     "start_time": "2023-12-07T15:27:57.627061",
     "status": "completed"
    },
    "tags": []
   },
   "outputs": [
    {
     "name": "stdout",
     "output_type": "stream",
     "text": [
      "57458/57458 [==============================] - 445s 8ms/step\n"
     ]
    }
   ],
   "source": [
    "#creating predictions\n",
    "\n",
    "predictions = model_two.predict(test_generator, verbose=1)"
   ]
  },
  {
   "cell_type": "code",
   "execution_count": 22,
   "id": "fc9537d8",
   "metadata": {
    "execution": {
     "iopub.execute_input": "2023-12-07T15:36:26.345313Z",
     "iopub.status.busy": "2023-12-07T15:36:26.344875Z",
     "iopub.status.idle": "2023-12-07T15:36:26.635597Z",
     "shell.execute_reply": "2023-12-07T15:36:26.634155Z"
    },
    "papermill": {
     "duration": 2.559443,
     "end_time": "2023-12-07T15:36:26.638805",
     "exception": false,
     "start_time": "2023-12-07T15:36:24.079362",
     "status": "completed"
    },
    "tags": []
   },
   "outputs": [
    {
     "data": {
      "text/html": [
       "<div>\n",
       "<style scoped>\n",
       "    .dataframe tbody tr th:only-of-type {\n",
       "        vertical-align: middle;\n",
       "    }\n",
       "\n",
       "    .dataframe tbody tr th {\n",
       "        vertical-align: top;\n",
       "    }\n",
       "\n",
       "    .dataframe thead th {\n",
       "        text-align: right;\n",
       "    }\n",
       "</style>\n",
       "<table border=\"1\" class=\"dataframe\">\n",
       "  <thead>\n",
       "    <tr style=\"text-align: right;\">\n",
       "      <th></th>\n",
       "      <th>id</th>\n",
       "      <th>label</th>\n",
       "    </tr>\n",
       "  </thead>\n",
       "  <tbody>\n",
       "    <tr>\n",
       "      <th>0</th>\n",
       "      <td>a7ea26360815d8492433b14cd8318607bcf99d9e</td>\n",
       "      <td>1</td>\n",
       "    </tr>\n",
       "    <tr>\n",
       "      <th>1</th>\n",
       "      <td>59d21133c845dff1ebc7a0c7cf40c145ea9e9664</td>\n",
       "      <td>0</td>\n",
       "    </tr>\n",
       "    <tr>\n",
       "      <th>2</th>\n",
       "      <td>5fde41ce8c6048a5c2f38eca12d6528fa312cdbb</td>\n",
       "      <td>0</td>\n",
       "    </tr>\n",
       "    <tr>\n",
       "      <th>3</th>\n",
       "      <td>bd953a3b1db1f7041ee95ff482594c4f46c73ed0</td>\n",
       "      <td>1</td>\n",
       "    </tr>\n",
       "    <tr>\n",
       "      <th>4</th>\n",
       "      <td>523fc2efd7aba53e597ab0f69cc2cbded7a6ce62</td>\n",
       "      <td>0</td>\n",
       "    </tr>\n",
       "  </tbody>\n",
       "</table>\n",
       "</div>"
      ],
      "text/plain": [
       "                                         id  label\n",
       "0  a7ea26360815d8492433b14cd8318607bcf99d9e      1\n",
       "1  59d21133c845dff1ebc7a0c7cf40c145ea9e9664      0\n",
       "2  5fde41ce8c6048a5c2f38eca12d6528fa312cdbb      0\n",
       "3  bd953a3b1db1f7041ee95ff482594c4f46c73ed0      1\n",
       "4  523fc2efd7aba53e597ab0f69cc2cbded7a6ce62      0"
      ]
     },
     "execution_count": 22,
     "metadata": {},
     "output_type": "execute_result"
    }
   ],
   "source": [
    "#create submission dataframe\n",
    "predictions = np.transpose(predictions)[0]\n",
    "submission_df = pd.DataFrame()\n",
    "submission_df['id'] = test_data['id'].apply(lambda x: x.split('.')[0])\n",
    "submission_df['label'] = list(map(lambda x: 0 if x < 0.5 else 1, predictions))\n",
    "submission_df.head()"
   ]
  },
  {
   "cell_type": "code",
   "execution_count": 23,
   "id": "e825b517",
   "metadata": {
    "execution": {
     "iopub.execute_input": "2023-12-07T15:36:31.332017Z",
     "iopub.status.busy": "2023-12-07T15:36:31.331515Z",
     "iopub.status.idle": "2023-12-07T15:36:31.347113Z",
     "shell.execute_reply": "2023-12-07T15:36:31.346059Z"
    },
    "papermill": {
     "duration": 2.266343,
     "end_time": "2023-12-07T15:36:31.349510",
     "exception": false,
     "start_time": "2023-12-07T15:36:29.083167",
     "status": "completed"
    },
    "tags": []
   },
   "outputs": [
    {
     "data": {
      "text/plain": [
       "label\n",
       "0    34225\n",
       "1    23233\n",
       "Name: count, dtype: int64"
      ]
     },
     "execution_count": 23,
     "metadata": {},
     "output_type": "execute_result"
    }
   ],
   "source": [
    "submission_df['label'].value_counts()"
   ]
  },
  {
   "cell_type": "code",
   "execution_count": 24,
   "id": "e91477d7",
   "metadata": {
    "execution": {
     "iopub.execute_input": "2023-12-07T15:36:35.999892Z",
     "iopub.status.busy": "2023-12-07T15:36:35.999436Z",
     "iopub.status.idle": "2023-12-07T15:36:36.243808Z",
     "shell.execute_reply": "2023-12-07T15:36:36.242482Z"
    },
    "papermill": {
     "duration": 2.494005,
     "end_time": "2023-12-07T15:36:36.246768",
     "exception": false,
     "start_time": "2023-12-07T15:36:33.752763",
     "status": "completed"
    },
    "tags": []
   },
   "outputs": [],
   "source": [
    "#Competition Submission\n",
    "submission_df.to_csv('submission.csv', index=False)"
   ]
  },
  {
   "cell_type": "markdown",
   "id": "ccbfe26e",
   "metadata": {
    "papermill": {
     "duration": 2.22793,
     "end_time": "2023-12-07T15:36:40.842741",
     "exception": false,
     "start_time": "2023-12-07T15:36:38.614811",
     "status": "completed"
    },
    "tags": []
   },
   "source": [
    "# Conclusion and Results \n",
    "\n",
    "**Results**\n",
    "\n",
    "From the plots and model summaries, we can see that model 2 outperformed model 1. This was most likely due to the hyperparameter tuning.\n",
    "\n",
    "**Conclusion**\n",
    "\n",
    "The model performed well but took quite long to train. To improve in future models, I think that we could process the images more to allow for more variations within the data. In addition, we could also train with more epochs, but we want to be careful to not overfit the data. We only trained with 10 epochs due to time and processing constraints. "
   ]
  }
 ],
 "metadata": {
  "kaggle": {
   "accelerator": "none",
   "dataSources": [
    {
     "databundleVersionId": 862157,
     "sourceId": 11848,
     "sourceType": "competition"
    }
   ],
   "dockerImageVersionId": 30587,
   "isGpuEnabled": false,
   "isInternetEnabled": false,
   "language": "python",
   "sourceType": "notebook"
  },
  "kernelspec": {
   "display_name": "Python 3",
   "language": "python",
   "name": "python3"
  },
  "language_info": {
   "codemirror_mode": {
    "name": "ipython",
    "version": 3
   },
   "file_extension": ".py",
   "mimetype": "text/x-python",
   "name": "python",
   "nbconvert_exporter": "python",
   "pygments_lexer": "ipython3",
   "version": "3.10.12"
  },
  "papermill": {
   "default_parameters": {},
   "duration": 20973.161642,
   "end_time": "2023-12-07T15:36:47.025627",
   "environment_variables": {},
   "exception": null,
   "input_path": "__notebook__.ipynb",
   "output_path": "__notebook__.ipynb",
   "parameters": {},
   "start_time": "2023-12-07T09:47:13.863985",
   "version": "2.4.0"
  }
 },
 "nbformat": 4,
 "nbformat_minor": 5
}
